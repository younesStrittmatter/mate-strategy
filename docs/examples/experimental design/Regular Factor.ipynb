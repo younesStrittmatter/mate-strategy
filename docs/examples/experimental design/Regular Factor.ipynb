{
 "cells": [
  {
   "metadata": {
    "ExecuteTime": {
     "end_time": "2025-05-12T19:50:48.324791Z",
     "start_time": "2025-05-12T19:50:48.318967Z"
    }
   },
   "cell_type": "code",
   "source": [
    "from dataclasses import dataclass\n",
    "from typing import List, Tuple\n",
    "from src.mate_strategy.json.rules import Interval, OneOf, Rule\n",
    "from src.mate_strategy.json.parseable import Parseable  # your patched version\n",
    "import random\n",
    "\n",
    "class FloatInterval(Rule):\n",
    "    valid = [0, 1]\n",
    "\n",
    "    @classmethod\n",
    "    def describe(cls):\n",
    "        return f\"be a float betwen {cls.valid[0]} and {cls.valid[1]}\"\n",
    "\n",
    "    @classmethod\n",
    "    def example(cls):\n",
    "        return random.random()\n",
    "\n",
    "    @classmethod\n",
    "    def validate(cls, v):\n",
    "        return isinstance(v, float) and cls.valid[0] <= v <= cls.valid[1]\n",
    "\n",
    "\n",
    "@dataclass\n",
    "class MySchema(Parseable):\n",
    "    x: Interval[20, 100]  # bounded integer\n",
    "    y: int  # any integer\n",
    "    fav: OneOf[\"red\", \"green\"]  # enum\n",
    "    scores: List[Interval[0, 10]]  # list of 0-10 ints\n",
    "    pair: Tuple[str, Interval[1, 5]]\n",
    "    name: FloatInterval\n",
    "\n",
    "\n",
    "print(MySchema.prompt())"
   ],
   "id": "75b72189f911bea",
   "outputs": [
    {
     "name": "stdout",
     "output_type": "stream",
     "text": [
      "Fill in **valid JSON** for the fields below.\n",
      "\n",
      "Rules\n",
      "- x must be a integer between 20 and 100\n",
      "- y must be a integer\n",
      "- fav must be a one of 'red', 'green'\n",
      "- scores must be a list of integer between 0 and 10\n",
      "- pair must be a tuple (string, integer between 1 and 5)\n",
      "- name must be a be a float betwen 0 and 1\n",
      "\n",
      "Example:\n",
      "{\n",
      "  \"x\": 60,\n",
      "  \"y\": 42,\n",
      "  \"fav\": \"green\",\n",
      "  \"scores\": [\n",
      "    5\n",
      "  ],\n",
      "  \"pair\": [\n",
      "    \"example\",\n",
      "    3\n",
      "  ],\n",
      "  \"name\": 0.9323685957770124\n",
      "}\n",
      "\n",
      "Return **only** the JSON object — no code-fences, no comments.\n"
     ]
    }
   ],
   "execution_count": 26
  },
  {
   "metadata": {
    "ExecuteTime": {
     "end_time": "2025-05-12T19:51:43.607469Z",
     "start_time": "2025-05-12T19:51:43.604923Z"
    }
   },
   "cell_type": "code",
   "source": [
    "@dataclass\n",
    "class MySchema(Parseable):\n",
    "    name: str\n",
    "    index: int\n",
    "\n",
    "\n",
    "print(MySchema.prompt())"
   ],
   "id": "9a33ab4029228072",
   "outputs": [
    {
     "name": "stdout",
     "output_type": "stream",
     "text": [
      "Fill in **valid JSON** for the fields below.\n",
      "\n",
      "Rules\n",
      "- name must be a string\n",
      "- index must be a integer\n",
      "\n",
      "Example:\n",
      "{\n",
      "  \"name\": \"example\",\n",
      "  \"index\": 42\n",
      "}\n",
      "\n",
      "Return **only** the JSON object — no code-fences, no comments.\n"
     ]
    }
   ],
   "execution_count": 31
  },
  {
   "metadata": {
    "ExecuteTime": {
     "end_time": "2025-05-12T16:56:01.530868Z",
     "start_time": "2025-05-12T16:56:01.527234Z"
    }
   },
   "cell_type": "code",
   "source": [
    "print(MySchema.validate_with_error({\n",
    "    \"x\": 22,\n",
    "    \"y\": 42,\n",
    "    \"fav\": \"green\",\n",
    "    \"scores\": [\n",
    "        5, 3, 2\n",
    "    ],\n",
    "    \"pair\": [\n",
    "        \"example\",\n",
    "        2,\n",
    "    ],\n",
    "    \"name\": .9\n",
    "}))\n"
   ],
   "id": "355b3a078e5c5f91",
   "outputs": [
    {
     "name": "stdout",
     "output_type": "stream",
     "text": [
      "(True,)\n"
     ]
    }
   ],
   "execution_count": 23
  },
  {
   "metadata": {
    "ExecuteTime": {
     "end_time": "2025-05-12T16:44:21.520153Z",
     "start_time": "2025-05-12T16:44:21.516917Z"
    }
   },
   "cell_type": "code",
   "source": "print(MySchema.validate_with_error({'x': {'value': 2}, 'y': 1}))",
   "id": "d127dd4d20ebb720",
   "outputs": [
    {
     "name": "stdout",
     "output_type": "stream",
     "text": [
      "(False, '\"fav\" is missing.', '\"fav\" must be present.')\n"
     ]
    }
   ],
   "execution_count": 7
  },
  {
   "metadata": {},
   "cell_type": "code",
   "outputs": [],
   "execution_count": null,
   "source": "",
   "id": "c37d5b4e8498dbb0"
  }
 ],
 "metadata": {
  "kernelspec": {
   "display_name": "Python 3",
   "language": "python",
   "name": "python3"
  },
  "language_info": {
   "codemirror_mode": {
    "name": "ipython",
    "version": 2
   },
   "file_extension": ".py",
   "mimetype": "text/x-python",
   "name": "python",
   "nbconvert_exporter": "python",
   "pygments_lexer": "ipython2",
   "version": "2.7.6"
  }
 },
 "nbformat": 4,
 "nbformat_minor": 5
}
